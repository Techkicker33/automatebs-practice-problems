{
 "cells": [
  {
   "cell_type": "code",
   "execution_count": 16,
   "metadata": {},
   "outputs": [
    {
     "name": "stdout",
     "output_type": "stream",
     "text": [
      "False\n",
      "True\n"
     ]
    }
   ],
   "source": [
    "#regex practice- regular expressions\n",
    "\n",
    "def phonenumb(text):\n",
    "    if len(text)!=12:\n",
    "        return False #not phone number size\n",
    "    for i in range (0,3):\n",
    "        if not text[i].isdecimal():\n",
    "            return False #no area code\n",
    "    if text[3] !='-':\n",
    "        return False #missing Dash\n",
    "    for i in range(4,7):\n",
    "        if not text[i].isdecimal():\n",
    "            return False #no first 3 digits\n",
    "    if text[7]!='-':\n",
    "        return False #missing second dash\n",
    "    for i in range(8,12):\n",
    "        if not text[i].isdecimal():\n",
    "            return False #missing last 4 digits\n",
    "    return True\n",
    "\n",
    "print(phonenumb('123-456-789')) #expected False\n",
    "print(phonenumb('123-456-7890')) #expected True"
   ]
  },
  {
   "cell_type": "code",
   "execution_count": null,
   "metadata": {},
   "outputs": [],
   "source": []
  }
 ],
 "metadata": {
  "kernelspec": {
   "display_name": "Python 3",
   "language": "python",
   "name": "python3"
  },
  "language_info": {
   "codemirror_mode": {
    "name": "ipython",
    "version": 3
   },
   "file_extension": ".py",
   "mimetype": "text/x-python",
   "name": "python",
   "nbconvert_exporter": "python",
   "pygments_lexer": "ipython3",
   "version": "3.13.2"
  }
 },
 "nbformat": 4,
 "nbformat_minor": 2
}
